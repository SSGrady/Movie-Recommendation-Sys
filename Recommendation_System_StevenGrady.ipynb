{
  "nbformat": 4,
  "nbformat_minor": 0,
  "metadata": {
    "colab": {
      "provenance": [],
      "gpuType": "T4",
      "authorship_tag": "ABX9TyMgJ7ooie/ow8YNxn4wi8RS",
      "include_colab_link": true
    },
    "kernelspec": {
      "name": "python3",
      "display_name": "Python 3"
    },
    "language_info": {
      "name": "python"
    },
    "accelerator": "GPU"
  },
  "cells": [
    {
      "cell_type": "markdown",
      "metadata": {
        "id": "view-in-github",
        "colab_type": "text"
      },
      "source": [
        "<a href=\"https://colab.research.google.com/github/SSGrady/Rec-System/blob/main/Recommendation_System_StevenGrady.ipynb\" target=\"_parent\"><img src=\"https://colab.research.google.com/assets/colab-badge.svg\" alt=\"Open In Colab\"/></a>"
      ]
    },
    {
      "cell_type": "code",
      "execution_count": null,
      "metadata": {
        "colab": {
          "base_uri": "https://localhost:8080/"
        },
        "id": "1RSwDUiuCses",
        "outputId": "ec57a7c0-4511-4cac-d262-4a9525ba9f61"
      },
      "outputs": [
        {
          "output_type": "stream",
          "name": "stdout",
          "text": [
            "  % Total    % Received % Xferd  Average Speed   Time    Time     Time  Current\n",
            "                                 Dload  Upload   Total   Spent    Left  Speed\n",
            "100  955k  100  955k    0     0  1612k      0 --:--:-- --:--:-- --:--:-- 1613k\n"
          ]
        }
      ],
      "source": [
        "! curl https://files.grouplens.org/datasets/movielens/ml-latest-small.zip -o ml-latest-small.zip"
      ]
    },
    {
      "cell_type": "markdown",
      "source": [
        "##Movie Recommendation System: Collaborative Filtering + Kmeans + Matrix Factorization"
      ],
      "metadata": {
        "id": "sABefb3DFAYo"
      }
    },
    {
      "cell_type": "code",
      "source": [
        "import zipfile\n",
        "with zipfile.ZipFile('ml-latest-small.zip', 'r') as zip_ref:\n",
        "  zip_ref.extractall('data')"
      ],
      "metadata": {
        "id": "N7zoC1drFRjZ"
      },
      "execution_count": null,
      "outputs": []
    }
  ]
}